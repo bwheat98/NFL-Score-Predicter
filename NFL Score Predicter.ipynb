{
 "cells": [
  {
   "cell_type": "markdown",
   "metadata": {},
   "source": [
    "# NFL Score Predictor\n",
    "\n",
    "For this project we will be looking at prediciting NFL Scores based on a database given to us. This database contains the date a game was played, the season, the elo rating for both teams, the elo probability, the team tags, whether it was a playoff game, whether it was played at a nuetral area or not, the scores of the games and the results. I think it would be useful to have the average points allowed and points scored for each team, but the average should be a rolling average from the more recent games. Since the goal is to predict future games, the scores and results will not be included in the training data since this will not be given for any games that haven't been played yet. However, I think it could be useful to train a classifier to predict the winner before hand and then have that prediction be used to train the regression model that predicts the scores of each game."
   ]
  },
  {
   "cell_type": "code",
   "execution_count": 1,
   "metadata": {},
   "outputs": [],
   "source": [
    "import pandas as pd\n",
    "import numpy as np\n",
    "import matplotlib as plt\n",
    "import xgboost as xgb\n",
    "from sklearn.metrics import mean_squared_error\n",
    "from sklearn.model_selection import train_test_split\n",
    "import statistics as stc\n",
    "from sklearn.metrics import accuracy_score\n",
    "import warnings\n",
    "warnings.filterwarnings('ignore')"
   ]
  },
  {
   "cell_type": "code",
   "execution_count": 2,
   "metadata": {},
   "outputs": [],
   "source": [
    "data = pd.read_csv(\"nfl-elo-game-master/data/nfl_games.csv\" )"
   ]
  },
  {
   "cell_type": "markdown",
   "metadata": {},
   "source": [
    "check for empty data points"
   ]
  },
  {
   "cell_type": "code",
   "execution_count": 3,
   "metadata": {},
   "outputs": [
    {
     "data": {
      "text/plain": [
       "date          0\n",
       "season        0\n",
       "neutral       0\n",
       "playoff      48\n",
       "team1         0\n",
       "team2         0\n",
       "elo1          0\n",
       "elo2          0\n",
       "elo_prob1     0\n",
       "score1        0\n",
       "score2        0\n",
       "result1       0\n",
       "dtype: int64"
      ]
     },
     "execution_count": 3,
     "metadata": {},
     "output_type": "execute_result"
    }
   ],
   "source": [
    "data.isnull().sum()"
   ]
  },
  {
   "cell_type": "markdown",
   "metadata": {},
   "source": [
    "fill the values with 0"
   ]
  },
  {
   "cell_type": "code",
   "execution_count": 4,
   "metadata": {},
   "outputs": [],
   "source": [
    "data = data.fillna(0)"
   ]
  },
  {
   "cell_type": "markdown",
   "metadata": {},
   "source": [
    "now lets take out any data from before 1980 because football was a lot different back then."
   ]
  },
  {
   "cell_type": "code",
   "execution_count": 5,
   "metadata": {},
   "outputs": [],
   "source": [
    "data = data.truncate(before=9056)"
   ]
  },
  {
   "cell_type": "code",
   "execution_count": 6,
   "metadata": {},
   "outputs": [],
   "source": [
    "data = data.set_index(\"date\")"
   ]
  },
  {
   "cell_type": "markdown",
   "metadata": {},
   "source": [
    "now lets split our data set into test train datasets, one group will be for predicting score1 and the other will be for predicting score 2"
   ]
  },
  {
   "cell_type": "code",
   "execution_count": 7,
   "metadata": {},
   "outputs": [],
   "source": [
    "X_train, X_test, y_train, y_test = train_test_split(data.drop(columns = [\"team1\",\"team2\", \"score1\", \"score2\",\"result1\"]), data[\"score1\"], test_size=.2, random_state=41)\n",
    "X2_train, X2_test, y2_train, y2_test = train_test_split(data.drop(columns = [\"team1\",\"team2\", \"score1\", \"score2\",\"result1\"]), data[\"score2\"], test_size=.2, random_state=41)"
   ]
  },
  {
   "cell_type": "markdown",
   "metadata": {},
   "source": [
    "lets create two models, one for each score to predict. XGBoost regressors will be used for these models."
   ]
  },
  {
   "cell_type": "code",
   "execution_count": 8,
   "metadata": {},
   "outputs": [
    {
     "name": "stdout",
     "output_type": "stream",
     "text": [
      "[13:33:45] WARNING: src/objective/regression_obj.cu:152: reg:linear is now deprecated in favor of reg:squarederror.\n",
      "[13:33:45] WARNING: src/objective/regression_obj.cu:152: reg:linear is now deprecated in favor of reg:squarederror.\n"
     ]
    },
    {
     "data": {
      "text/plain": [
       "XGBRegressor(base_score=0.5, booster='gbtree', colsample_bylevel=1,\n",
       "             colsample_bynode=1, colsample_bytree=1, gamma=0,\n",
       "             importance_type='gain', learning_rate=0.1, max_delta_step=0,\n",
       "             max_depth=3, min_child_weight=1, missing=None, n_estimators=100,\n",
       "             n_jobs=1, nthread=None, objective='reg:linear', random_state=0,\n",
       "             reg_alpha=0, reg_lambda=1, scale_pos_weight=1, seed=None,\n",
       "             silent=None, subsample=1, verbosity=1)"
      ]
     },
     "execution_count": 8,
     "metadata": {},
     "output_type": "execute_result"
    }
   ],
   "source": [
    "model = xgb.XGBRegressor()\n",
    "model.fit(X_train, y_train)\n",
    "model2 = xgb.XGBRegressor()\n",
    "model2.fit(X2_train, y2_train)"
   ]
  },
  {
   "cell_type": "markdown",
   "metadata": {},
   "source": [
    "now lets make predictions with the model."
   ]
  },
  {
   "cell_type": "code",
   "execution_count": 9,
   "metadata": {},
   "outputs": [],
   "source": [
    "y_pred = model.predict(X_test)\n",
    "predictions = [round(value) for value in y_pred]\n",
    "y2_pred = model2.predict(X_test)\n",
    "predictions2 = [round(value) for value in y2_pred]"
   ]
  },
  {
   "cell_type": "markdown",
   "metadata": {},
   "source": [
    "We will check how the model does with Mean Squared Error measurement"
   ]
  },
  {
   "cell_type": "code",
   "execution_count": 10,
   "metadata": {},
   "outputs": [
    {
     "name": "stdout",
     "output_type": "stream",
     "text": [
      "RMSE: 9.663482\n",
      "RMSE: 11.509092\n"
     ]
    }
   ],
   "source": [
    "rmse = np.sqrt(mean_squared_error(y_test, predictions))\n",
    "print(\"RMSE: %f\" % (rmse))\n",
    "rmse2 = np.sqrt(mean_squared_error(y_test, predictions2))\n",
    "print(\"RMSE: %f\" % (rmse2))"
   ]
  },
  {
   "cell_type": "markdown",
   "metadata": {},
   "source": [
    "we seem to have a Mean Squared error that is pretty high, but we have not done much editing to the database. Now lets do some feature engineering and see if we can reduce that MSE."
   ]
  },
  {
   "cell_type": "markdown",
   "metadata": {},
   "source": [
    "I think that it would be useful to take an average points allowed and average points scored column for each team, we want to have this for both the home and away team. Although we do not want this average to be from the entire database, it would be more useful if it were a moving average of say about 16 games."
   ]
  },
  {
   "cell_type": "code",
   "execution_count": 11,
   "metadata": {},
   "outputs": [],
   "source": [
    "pointsscored = {}\n",
    "pointsallowed = {}\n",
    "for team in data[\"team1\"].unique():\n",
    "    pointsscored[team] = [10,10,10,10,10,10,10,10,10,10,10,10,10,10,10,10]\n",
    "    pointsallowed[team] = [10,10,10,10,10,10,10,10,10,10,10,10,10,10,10,10]\n"
   ]
  },
  {
   "cell_type": "code",
   "execution_count": 12,
   "metadata": {},
   "outputs": [],
   "source": [
    "pfadata = pd.read_csv(\"nfl-elo-game-master/data/nfl_games.csv\" ).truncate(before=9056)\n",
    "pfadat = pd.DataFrame({\"team1ps\": np.nan,\"team1pa\": np.nan,\"team2ps\": np.nan,\"team1pa\": np.nan},  index=pfadata.index)"
   ]
  },
  {
   "cell_type": "code",
   "execution_count": 13,
   "metadata": {},
   "outputs": [],
   "source": [
    "for index, row in pfadata.iterrows():\n",
    "    \n",
    "    pfadat.at[index, \"team1ps\"] = (round(stc.mean(pointsscored[row[4]])))\n",
    "    pfadat.at[index, \"team1pa\"] = (round(stc.mean(pointsallowed[row[4]])))\n",
    "    pfadat.at[index, \"team2ps\"] = (round(stc.mean(pointsscored[row[5]])))\n",
    "    pfadat.at[index, \"team2pa\"] = (round(stc.mean(pointsallowed[row[5]])))\n",
    "    \n",
    "    pointsscored[row[4]].append(row[9])\n",
    "    pointsscored[row[4]].pop(0)\n",
    "    pointsallowed[row[4]].append(row[10])\n",
    "    pointsallowed[row[4]].pop(0)\n",
    "    \n",
    "    pointsscored[row[5]].append(row[10])\n",
    "    pointsscored[row[5]].pop(0)\n",
    "    pointsallowed[row[5]].append(row[9])\n",
    "    pointsallowed[row[5]].pop(0)\n",
    "    "
   ]
  },
  {
   "cell_type": "code",
   "execution_count": 14,
   "metadata": {},
   "outputs": [],
   "source": [
    "newdata = pd.concat([pfadata, pfadat], axis=1, sort=False)\n",
    "newdata = newdata.fillna(0)\n",
    "\n",
    "#label encode the teams\n",
    "newdata[\"team1\"] = newdata[\"team1\"].astype(\"category\").cat.codes\n",
    "newdata[\"team2\"] = newdata[\"team2\"].astype(\"category\").cat.codes"
   ]
  },
  {
   "cell_type": "markdown",
   "metadata": {},
   "source": [
    "Here we will create another machine learning model that will try and predict the winner of the game. This prediction will then be place in our dataset and be used by our regression model to help try and improve the MSE."
   ]
  },
  {
   "cell_type": "code",
   "execution_count": 15,
   "metadata": {},
   "outputs": [
    {
     "name": "stdout",
     "output_type": "stream",
     "text": [
      "Accuracy: 67.36%\n"
     ]
    }
   ],
   "source": [
    "winner = xgb.XGBClassifier()\n",
    "winner.fit(newdata.drop(columns = [ \"date\", \"score1\", \"score2\",\"result1\"]), newdata[\"result1\"])\n",
    "y_pred = winner.predict(newdata.drop(columns = [ \"date\", \"score1\", \"score2\",\"result1\"]))\n",
    "predictions = [round(value) for value in y_pred]\n",
    "\n",
    "\n",
    "\n",
    "accuracy = accuracy_score(newdata[\"result1\"].astype(int), predictions)\n",
    "print(\"Accuracy: %.2f%%\" % (accuracy * 100.0))"
   ]
  },
  {
   "cell_type": "code",
   "execution_count": 16,
   "metadata": {},
   "outputs": [],
   "source": [
    "newdata[\"predResult\"] = predictions"
   ]
  },
  {
   "cell_type": "markdown",
   "metadata": {},
   "source": [
    "Split the data up again."
   ]
  },
  {
   "cell_type": "code",
   "execution_count": 17,
   "metadata": {},
   "outputs": [],
   "source": [
    "X_train, X_test, y_train, y_test = train_test_split(newdata.drop(columns = [ \"date\", \"score1\", \"score2\",\"result1\"]), newdata[\"score1\"], test_size=.2, random_state=41)\n",
    "X2_train, X2_test, y2_train, y2_test = train_test_split(newdata.drop(columns = [\"date\",  \"score1\", \"score2\",\"result1\"]), newdata[\"score2\"], test_size=.2, random_state=41)"
   ]
  },
  {
   "cell_type": "code",
   "execution_count": 18,
   "metadata": {},
   "outputs": [
    {
     "name": "stdout",
     "output_type": "stream",
     "text": [
      "[13:33:51] WARNING: src/objective/regression_obj.cu:152: reg:linear is now deprecated in favor of reg:squarederror.\n",
      "[13:33:51] WARNING: src/objective/regression_obj.cu:152: reg:linear is now deprecated in favor of reg:squarederror.\n"
     ]
    },
    {
     "data": {
      "text/plain": [
       "XGBRegressor(base_score=0.5, booster='gbtree', colsample_bylevel=1,\n",
       "             colsample_bynode=1, colsample_bytree=1, gamma=0,\n",
       "             importance_type='gain', learning_rate=0.1, max_delta_step=0,\n",
       "             max_depth=3, min_child_weight=1, missing=None, n_estimators=100,\n",
       "             n_jobs=1, nthread=None, objective='reg:linear', random_state=0,\n",
       "             reg_alpha=0, reg_lambda=1, scale_pos_weight=1, seed=None,\n",
       "             silent=None, subsample=1, verbosity=1)"
      ]
     },
     "execution_count": 18,
     "metadata": {},
     "output_type": "execute_result"
    }
   ],
   "source": [
    "model = xgb.XGBRegressor()\n",
    "model.fit(X_train, y_train)\n",
    "model2 = xgb.XGBRegressor()\n",
    "model2.fit(X2_train, y2_train)"
   ]
  },
  {
   "cell_type": "markdown",
   "metadata": {},
   "source": [
    "make our predictions again with our new data."
   ]
  },
  {
   "cell_type": "code",
   "execution_count": 19,
   "metadata": {},
   "outputs": [],
   "source": [
    "y_pred = model.predict(X_test)\n",
    "predictions = [round(value) for value in y_pred]\n",
    "y2_pred = model2.predict(X_test)\n",
    "predictions2 = [round(value) for value in y2_pred]"
   ]
  },
  {
   "cell_type": "code",
   "execution_count": 20,
   "metadata": {},
   "outputs": [
    {
     "name": "stdout",
     "output_type": "stream",
     "text": [
      "RMSE: 9.572480\n",
      "RMSE: 11.482973\n"
     ]
    }
   ],
   "source": [
    "rmse = np.sqrt(mean_squared_error(y_test, predictions))\n",
    "print(\"RMSE: %f\" % (rmse))\n",
    "rmse2 = np.sqrt(mean_squared_error(y_test, predictions2))\n",
    "print(\"RMSE: %f\" % (rmse2))"
   ]
  },
  {
   "cell_type": "markdown",
   "metadata": {},
   "source": [
    "Our RMSE went down a little bit but not a lot."
   ]
  },
  {
   "cell_type": "code",
   "execution_count": 21,
   "metadata": {},
   "outputs": [
    {
     "data": {
      "text/html": [
       "<div>\n",
       "<style scoped>\n",
       "    .dataframe tbody tr th:only-of-type {\n",
       "        vertical-align: middle;\n",
       "    }\n",
       "\n",
       "    .dataframe tbody tr th {\n",
       "        vertical-align: top;\n",
       "    }\n",
       "\n",
       "    .dataframe thead th {\n",
       "        text-align: right;\n",
       "    }\n",
       "</style>\n",
       "<table border=\"1\" class=\"dataframe\">\n",
       "  <thead>\n",
       "    <tr style=\"text-align: right;\">\n",
       "      <th></th>\n",
       "      <th>date</th>\n",
       "      <th>season</th>\n",
       "      <th>neutral</th>\n",
       "      <th>playoff</th>\n",
       "      <th>team1</th>\n",
       "      <th>team2</th>\n",
       "      <th>elo1</th>\n",
       "      <th>elo2</th>\n",
       "      <th>elo_prob1</th>\n",
       "      <th>score1</th>\n",
       "      <th>score2</th>\n",
       "      <th>result1</th>\n",
       "      <th>team1ps</th>\n",
       "      <th>team1pa</th>\n",
       "      <th>team2ps</th>\n",
       "      <th>team2pa</th>\n",
       "      <th>predResult</th>\n",
       "    </tr>\n",
       "  </thead>\n",
       "  <tbody>\n",
       "    <tr>\n",
       "      <td>16584</td>\n",
       "      <td>9/27/2020</td>\n",
       "      <td>2020</td>\n",
       "      <td>0</td>\n",
       "      <td>0.0</td>\n",
       "      <td>27</td>\n",
       "      <td>8</td>\n",
       "      <td>1592.877541</td>\n",
       "      <td>1526.916862</td>\n",
       "      <td>0.680021</td>\n",
       "      <td>38</td>\n",
       "      <td>31</td>\n",
       "      <td>1.0</td>\n",
       "      <td>26.0</td>\n",
       "      <td>25.0</td>\n",
       "      <td>27.0</td>\n",
       "      <td>21.0</td>\n",
       "      <td>1.0</td>\n",
       "    </tr>\n",
       "    <tr>\n",
       "      <td>16585</td>\n",
       "      <td>9/27/2020</td>\n",
       "      <td>2020</td>\n",
       "      <td>0</td>\n",
       "      <td>0.0</td>\n",
       "      <td>9</td>\n",
       "      <td>29</td>\n",
       "      <td>1474.230438</td>\n",
       "      <td>1501.272864</td>\n",
       "      <td>0.554409</td>\n",
       "      <td>10</td>\n",
       "      <td>28</td>\n",
       "      <td>0.0</td>\n",
       "      <td>18.0</td>\n",
       "      <td>20.0</td>\n",
       "      <td>30.0</td>\n",
       "      <td>28.0</td>\n",
       "      <td>0.0</td>\n",
       "    </tr>\n",
       "    <tr>\n",
       "      <td>16586</td>\n",
       "      <td>9/27/2020</td>\n",
       "      <td>2020</td>\n",
       "      <td>0</td>\n",
       "      <td>0.0</td>\n",
       "      <td>0</td>\n",
       "      <td>10</td>\n",
       "      <td>1487.264238</td>\n",
       "      <td>1382.367502</td>\n",
       "      <td>0.726712</td>\n",
       "      <td>23</td>\n",
       "      <td>26</td>\n",
       "      <td>0.0</td>\n",
       "      <td>23.0</td>\n",
       "      <td>27.0</td>\n",
       "      <td>22.0</td>\n",
       "      <td>28.0</td>\n",
       "      <td>1.0</td>\n",
       "    </tr>\n",
       "    <tr>\n",
       "      <td>16587</td>\n",
       "      <td>9/27/2020</td>\n",
       "      <td>2020</td>\n",
       "      <td>0</td>\n",
       "      <td>0.0</td>\n",
       "      <td>21</td>\n",
       "      <td>11</td>\n",
       "      <td>1589.800167</td>\n",
       "      <td>1618.642744</td>\n",
       "      <td>0.551848</td>\n",
       "      <td>30</td>\n",
       "      <td>37</td>\n",
       "      <td>0.0</td>\n",
       "      <td>29.0</td>\n",
       "      <td>21.0</td>\n",
       "      <td>26.0</td>\n",
       "      <td>22.0</td>\n",
       "      <td>1.0</td>\n",
       "    </tr>\n",
       "    <tr>\n",
       "      <td>16588</td>\n",
       "      <td>9/28/2020</td>\n",
       "      <td>2020</td>\n",
       "      <td>0</td>\n",
       "      <td>0.0</td>\n",
       "      <td>2</td>\n",
       "      <td>15</td>\n",
       "      <td>1672.269182</td>\n",
       "      <td>1685.130853</td>\n",
       "      <td>0.574475</td>\n",
       "      <td>20</td>\n",
       "      <td>34</td>\n",
       "      <td>0.0</td>\n",
       "      <td>32.0</td>\n",
       "      <td>17.0</td>\n",
       "      <td>30.0</td>\n",
       "      <td>19.0</td>\n",
       "      <td>1.0</td>\n",
       "    </tr>\n",
       "  </tbody>\n",
       "</table>\n",
       "</div>"
      ],
      "text/plain": [
       "            date  season  neutral  playoff  team1  team2         elo1  \\\n",
       "16584  9/27/2020    2020        0      0.0     27      8  1592.877541   \n",
       "16585  9/27/2020    2020        0      0.0      9     29  1474.230438   \n",
       "16586  9/27/2020    2020        0      0.0      0     10  1487.264238   \n",
       "16587  9/27/2020    2020        0      0.0     21     11  1589.800167   \n",
       "16588  9/28/2020    2020        0      0.0      2     15  1672.269182   \n",
       "\n",
       "              elo2  elo_prob1  score1  score2  result1  team1ps  team1pa  \\\n",
       "16584  1526.916862   0.680021      38      31      1.0     26.0     25.0   \n",
       "16585  1501.272864   0.554409      10      28      0.0     18.0     20.0   \n",
       "16586  1382.367502   0.726712      23      26      0.0     23.0     27.0   \n",
       "16587  1618.642744   0.551848      30      37      0.0     29.0     21.0   \n",
       "16588  1685.130853   0.574475      20      34      0.0     32.0     17.0   \n",
       "\n",
       "       team2ps  team2pa  predResult  \n",
       "16584     27.0     21.0         1.0  \n",
       "16585     30.0     28.0         0.0  \n",
       "16586     22.0     28.0         1.0  \n",
       "16587     26.0     22.0         1.0  \n",
       "16588     30.0     19.0         1.0  "
      ]
     },
     "execution_count": 21,
     "metadata": {},
     "output_type": "execute_result"
    }
   ],
   "source": [
    "newdata.tail()"
   ]
  },
  {
   "cell_type": "markdown",
   "metadata": {},
   "source": [
    "Lets try our predictions on the entire dataset."
   ]
  },
  {
   "cell_type": "code",
   "execution_count": 22,
   "metadata": {},
   "outputs": [],
   "source": [
    "y_pred = model.predict(newdata.drop(columns = [ \"date\", \"score1\", \"score2\",\"result1\"]))\n",
    "predictions = [round(value) for value in y_pred]\n",
    "y2_pred = model2.predict(newdata.drop(columns = [ \"date\", \"score1\", \"score2\",\"result1\"]))\n",
    "predictions2 = [round(value) for value in y2_pred]"
   ]
  },
  {
   "cell_type": "code",
   "execution_count": 23,
   "metadata": {},
   "outputs": [
    {
     "name": "stdout",
     "output_type": "stream",
     "text": [
      "RMSE: 9.388746\n",
      "RMSE: 9.153151\n"
     ]
    }
   ],
   "source": [
    "rmse = np.sqrt(mean_squared_error(newdata[\"score1\"], predictions))\n",
    "print(\"RMSE: %f\" % (rmse))\n",
    "rmse2 = np.sqrt(mean_squared_error(newdata[\"score2\"], predictions2))\n",
    "print(\"RMSE: %f\" % (rmse2))"
   ]
  },
  {
   "cell_type": "markdown",
   "metadata": {},
   "source": [
    "The RMSE for this well a lot lower than our split database, especially on our score2 prediction."
   ]
  },
  {
   "cell_type": "code",
   "execution_count": 24,
   "metadata": {},
   "outputs": [
    {
     "data": {
      "text/html": [
       "<div>\n",
       "<style scoped>\n",
       "    .dataframe tbody tr th:only-of-type {\n",
       "        vertical-align: middle;\n",
       "    }\n",
       "\n",
       "    .dataframe tbody tr th {\n",
       "        vertical-align: top;\n",
       "    }\n",
       "\n",
       "    .dataframe thead th {\n",
       "        text-align: right;\n",
       "    }\n",
       "</style>\n",
       "<table border=\"1\" class=\"dataframe\">\n",
       "  <thead>\n",
       "    <tr style=\"text-align: right;\">\n",
       "      <th></th>\n",
       "      <th>date</th>\n",
       "      <th>season</th>\n",
       "      <th>neutral</th>\n",
       "      <th>playoff</th>\n",
       "      <th>team1</th>\n",
       "      <th>team2</th>\n",
       "      <th>elo1</th>\n",
       "      <th>elo2</th>\n",
       "      <th>elo_prob1</th>\n",
       "      <th>score1</th>\n",
       "      <th>score2</th>\n",
       "      <th>result1</th>\n",
       "      <th>team1ps</th>\n",
       "      <th>team1pa</th>\n",
       "      <th>team2ps</th>\n",
       "      <th>team2pa</th>\n",
       "      <th>predResult</th>\n",
       "      <th>predScore1</th>\n",
       "      <th>predScore2</th>\n",
       "    </tr>\n",
       "  </thead>\n",
       "  <tbody>\n",
       "    <tr>\n",
       "      <td>16584</td>\n",
       "      <td>9/27/2020</td>\n",
       "      <td>2020</td>\n",
       "      <td>0</td>\n",
       "      <td>0.0</td>\n",
       "      <td>27</td>\n",
       "      <td>8</td>\n",
       "      <td>1592.877541</td>\n",
       "      <td>1526.916862</td>\n",
       "      <td>0.680021</td>\n",
       "      <td>38</td>\n",
       "      <td>31</td>\n",
       "      <td>1.0</td>\n",
       "      <td>26.0</td>\n",
       "      <td>25.0</td>\n",
       "      <td>27.0</td>\n",
       "      <td>21.0</td>\n",
       "      <td>1.0</td>\n",
       "      <td>29.0</td>\n",
       "      <td>25.0</td>\n",
       "    </tr>\n",
       "    <tr>\n",
       "      <td>16585</td>\n",
       "      <td>9/27/2020</td>\n",
       "      <td>2020</td>\n",
       "      <td>0</td>\n",
       "      <td>0.0</td>\n",
       "      <td>9</td>\n",
       "      <td>29</td>\n",
       "      <td>1474.230438</td>\n",
       "      <td>1501.272864</td>\n",
       "      <td>0.554409</td>\n",
       "      <td>10</td>\n",
       "      <td>28</td>\n",
       "      <td>0.0</td>\n",
       "      <td>18.0</td>\n",
       "      <td>20.0</td>\n",
       "      <td>30.0</td>\n",
       "      <td>28.0</td>\n",
       "      <td>0.0</td>\n",
       "      <td>20.0</td>\n",
       "      <td>26.0</td>\n",
       "    </tr>\n",
       "    <tr>\n",
       "      <td>16586</td>\n",
       "      <td>9/27/2020</td>\n",
       "      <td>2020</td>\n",
       "      <td>0</td>\n",
       "      <td>0.0</td>\n",
       "      <td>0</td>\n",
       "      <td>10</td>\n",
       "      <td>1487.264238</td>\n",
       "      <td>1382.367502</td>\n",
       "      <td>0.726712</td>\n",
       "      <td>23</td>\n",
       "      <td>26</td>\n",
       "      <td>0.0</td>\n",
       "      <td>23.0</td>\n",
       "      <td>27.0</td>\n",
       "      <td>22.0</td>\n",
       "      <td>28.0</td>\n",
       "      <td>1.0</td>\n",
       "      <td>25.0</td>\n",
       "      <td>23.0</td>\n",
       "    </tr>\n",
       "    <tr>\n",
       "      <td>16587</td>\n",
       "      <td>9/27/2020</td>\n",
       "      <td>2020</td>\n",
       "      <td>0</td>\n",
       "      <td>0.0</td>\n",
       "      <td>21</td>\n",
       "      <td>11</td>\n",
       "      <td>1589.800167</td>\n",
       "      <td>1618.642744</td>\n",
       "      <td>0.551848</td>\n",
       "      <td>30</td>\n",
       "      <td>37</td>\n",
       "      <td>0.0</td>\n",
       "      <td>29.0</td>\n",
       "      <td>21.0</td>\n",
       "      <td>26.0</td>\n",
       "      <td>22.0</td>\n",
       "      <td>1.0</td>\n",
       "      <td>31.0</td>\n",
       "      <td>27.0</td>\n",
       "    </tr>\n",
       "    <tr>\n",
       "      <td>16588</td>\n",
       "      <td>9/28/2020</td>\n",
       "      <td>2020</td>\n",
       "      <td>0</td>\n",
       "      <td>0.0</td>\n",
       "      <td>2</td>\n",
       "      <td>15</td>\n",
       "      <td>1672.269182</td>\n",
       "      <td>1685.130853</td>\n",
       "      <td>0.574475</td>\n",
       "      <td>20</td>\n",
       "      <td>34</td>\n",
       "      <td>0.0</td>\n",
       "      <td>32.0</td>\n",
       "      <td>17.0</td>\n",
       "      <td>30.0</td>\n",
       "      <td>19.0</td>\n",
       "      <td>1.0</td>\n",
       "      <td>27.0</td>\n",
       "      <td>28.0</td>\n",
       "    </tr>\n",
       "  </tbody>\n",
       "</table>\n",
       "</div>"
      ],
      "text/plain": [
       "            date  season  neutral  playoff  team1  team2         elo1  \\\n",
       "16584  9/27/2020    2020        0      0.0     27      8  1592.877541   \n",
       "16585  9/27/2020    2020        0      0.0      9     29  1474.230438   \n",
       "16586  9/27/2020    2020        0      0.0      0     10  1487.264238   \n",
       "16587  9/27/2020    2020        0      0.0     21     11  1589.800167   \n",
       "16588  9/28/2020    2020        0      0.0      2     15  1672.269182   \n",
       "\n",
       "              elo2  elo_prob1  score1  score2  result1  team1ps  team1pa  \\\n",
       "16584  1526.916862   0.680021      38      31      1.0     26.0     25.0   \n",
       "16585  1501.272864   0.554409      10      28      0.0     18.0     20.0   \n",
       "16586  1382.367502   0.726712      23      26      0.0     23.0     27.0   \n",
       "16587  1618.642744   0.551848      30      37      0.0     29.0     21.0   \n",
       "16588  1685.130853   0.574475      20      34      0.0     32.0     17.0   \n",
       "\n",
       "       team2ps  team2pa  predResult  predScore1  predScore2  \n",
       "16584     27.0     21.0         1.0        29.0        25.0  \n",
       "16585     30.0     28.0         0.0        20.0        26.0  \n",
       "16586     22.0     28.0         1.0        25.0        23.0  \n",
       "16587     26.0     22.0         1.0        31.0        27.0  \n",
       "16588     30.0     19.0         1.0        27.0        28.0  "
      ]
     },
     "execution_count": 24,
     "metadata": {},
     "output_type": "execute_result"
    }
   ],
   "source": [
    "newdata[\"predScore1\"] = predictions\n",
    "newdata[\"predScore2\"] = predictions2\n",
    "newdata.tail()"
   ]
  },
  {
   "cell_type": "markdown",
   "metadata": {},
   "source": [
    "lets use our model to predict the upcomoing games this week."
   ]
  },
  {
   "cell_type": "code",
   "execution_count": 25,
   "metadata": {},
   "outputs": [],
   "source": [
    "def getPredictions(filename):\n",
    "    week4 = pd.read_csv(filename)\n",
    "    pfadat = pd.DataFrame({\"team1ps\": np.nan,\"team1pa\": np.nan,\"team2ps\": np.nan,\"team1pa\": np.nan},  index=week4.index)\n",
    "    for index, row in week4.iterrows():\n",
    "    \n",
    "        pfadat.at[index, \"team1ps\"] = (round(stc.mean(pointsscored[row[4]])))\n",
    "        pfadat.at[index, \"team1pa\"] = (round(stc.mean(pointsallowed[row[4]])))\n",
    "        pfadat.at[index, \"team2ps\"] = (round(stc.mean(pointsscored[row[5]])))\n",
    "        pfadat.at[index, \"team2pa\"] = (round(stc.mean(pointsallowed[row[5]])))\n",
    "    \n",
    "    week4 = pd.concat([week4, pfadat], axis=1, sort=False)\n",
    "    week4 = week4.fillna(0)\n",
    "\n",
    "    tempt1 = week4[\"team1\"]\n",
    "    tempt2 = week4[\"team2\"]\n",
    "    week4[\"team1\"] = week4[\"team1\"].astype(\"category\").cat.codes\n",
    "    week4[\"team2\"] = week4[\"team2\"].astype(\"category\").cat.codes\n",
    "        \n",
    "    y_pred = winner.predict(week4.drop(columns = [ \"date\", \"score1\", \"score2\",\"result1\"]))\n",
    "    predictions = [round(value) for value in y_pred]\n",
    "    week4[\"predResult\"] = predictions\n",
    "    y_pred = model.predict(week4.drop(columns = [ \"date\", \"score1\", \"score2\",\"result1\"]))\n",
    "    predictions = [round(value) for value in y_pred]\n",
    "    y2_pred = model2.predict(week4.drop(columns = [ \"date\", \"score1\", \"score2\",\"result1\"]))\n",
    "    predictions2 = [round(value) for value in y2_pred]\n",
    "    week4[\"predScore1\"] = predictions\n",
    "    week4[\"predScore2\"] = predictions2\n",
    "    \n",
    "    week4[\"team1\"] = tempt1\n",
    "    week4[\"team2\"] = tempt2\n",
    "    return week4"
   ]
  },
  {
   "cell_type": "code",
   "execution_count": 26,
   "metadata": {},
   "outputs": [],
   "source": [
    "def printWinners(dataset):\n",
    "    for el in range(len(dataset)):\n",
    "        if(dataset.at[el,\"predScore1\"] > dataset.at[el,\"predScore2\"] ):\n",
    "            string = str(dataset.at[el,\"team1\"]) + \" is predicted to beat \" + str(dataset.at[el,\"team2\"]) + \" with a score of \" + str(dataset.at[el,\"predScore1\"]) + \" - \" + str(dataset.at[el,\"predScore2\"])\n",
    "        else:\n",
    "            string = str(dataset.at[el,\"team2\"]) + \" is predicted to beat \" + str(dataset.at[el,\"team1\"]) + \" with a score of \" + str(dataset.at[el,\"predScore2\"]) + \" - \" + str(dataset.at[el,\"predScore1\"])\n",
    "        \n",
    "        print (string)"
   ]
  },
  {
   "cell_type": "code",
   "execution_count": 27,
   "metadata": {},
   "outputs": [
    {
     "name": "stdout",
     "output_type": "stream",
     "text": [
      "NYJ is predicted to beat DEN with a score of 21.0 - 20.0\n",
      "TB is predicted to beat LAC with a score of 30.0 - 22.0\n",
      "CHI is predicted to beat IND with a score of 26.0 - 21.0\n",
      "JAX is predicted to beat CIN with a score of 23.0 - 22.0\n",
      "CAR is predicted to beat ARI with a score of 24.0 - 23.0\n",
      "DAL is predicted to beat CLE with a score of 28.0 - 20.0\n",
      "SEA is predicted to beat MIA with a score of 29.0 - 22.0\n",
      "MIN is predicted to beat HOU with a score of 26.0 - 23.0\n",
      "BAL is predicted to beat WSH with a score of 30.0 - 15.0\n",
      "TEN is predicted to beat PIT with a score of 30.0 - 24.0\n",
      "NO is predicted to beat DET with a score of 30.0 - 20.0\n",
      "LAR is predicted to beat NYG with a score of 30.0 - 20.0\n",
      "KC is predicted to beat NE with a score of 30.0 - 24.0\n",
      "BUF is predicted to beat OAK with a score of 28.0 - 22.0\n",
      "SF is predicted to beat PHI with a score of 32.0 - 22.0\n",
      "GB is predicted to beat ATL with a score of 29.0 - 21.0\n"
     ]
    }
   ],
   "source": [
    "test = getPredictions(\"week4.csv\")\n",
    "printWinners(test)\n"
   ]
  }
 ],
 "metadata": {
  "kernelspec": {
   "display_name": "Python 3",
   "language": "python",
   "name": "python3"
  },
  "language_info": {
   "codemirror_mode": {
    "name": "ipython",
    "version": 3
   },
   "file_extension": ".py",
   "mimetype": "text/x-python",
   "name": "python",
   "nbconvert_exporter": "python",
   "pygments_lexer": "ipython3",
   "version": "3.7.4"
  }
 },
 "nbformat": 4,
 "nbformat_minor": 2
}
